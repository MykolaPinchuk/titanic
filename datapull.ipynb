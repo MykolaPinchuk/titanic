{
 "cells": [
  {
   "cell_type": "markdown",
   "id": "bbf0a99b-2143-43c0-a31b-ea08eaf4be8f",
   "metadata": {},
   "source": [
    "Need to parameterize things here"
   ]
  },
  {
   "cell_type": "code",
   "execution_count": 1,
   "id": "21f2d7af-ba98-403a-aca1-73b1cbba6e2a",
   "metadata": {},
   "outputs": [
    {
     "name": "stdout",
     "output_type": "stream",
     "text": [
      "Collecting kaggle\n",
      "  Downloading kaggle-1.5.13.tar.gz (63 kB)\n",
      "\u001b[2K     \u001b[90m━━━━━━━━━━━━━━━━━━━━━━━━━━━━━━━━━━━━━━━━\u001b[0m \u001b[32m63.3/63.3 kB\u001b[0m \u001b[31m2.6 MB/s\u001b[0m eta \u001b[36m0:00:00\u001b[0m\n",
      "\u001b[?25h  Preparing metadata (setup.py) ... \u001b[?25ldone\n",
      "\u001b[?25hRequirement already satisfied: six>=1.10 in /opt/conda/lib/python3.7/site-packages (from kaggle) (1.16.0)\n",
      "Requirement already satisfied: certifi in /opt/conda/lib/python3.7/site-packages (from kaggle) (2022.12.7)\n",
      "Requirement already satisfied: python-dateutil in /opt/conda/lib/python3.7/site-packages (from kaggle) (2.8.2)\n",
      "Requirement already satisfied: requests in /opt/conda/lib/python3.7/site-packages (from kaggle) (2.28.2)\n",
      "Requirement already satisfied: tqdm in /opt/conda/lib/python3.7/site-packages (from kaggle) (4.64.1)\n",
      "Collecting python-slugify\n",
      "  Downloading python_slugify-8.0.1-py2.py3-none-any.whl (9.7 kB)\n",
      "Requirement already satisfied: urllib3 in /opt/conda/lib/python3.7/site-packages (from kaggle) (1.26.14)\n",
      "Collecting text-unidecode>=1.3\n",
      "  Downloading text_unidecode-1.3-py2.py3-none-any.whl (78 kB)\n",
      "\u001b[2K     \u001b[90m━━━━━━━━━━━━━━━━━━━━━━━━━━━━━━━━━━━━━━━━\u001b[0m \u001b[32m78.2/78.2 kB\u001b[0m \u001b[31m10.0 MB/s\u001b[0m eta \u001b[36m0:00:00\u001b[0m\n",
      "\u001b[?25hRequirement already satisfied: idna<4,>=2.5 in /opt/conda/lib/python3.7/site-packages (from requests->kaggle) (3.4)\n",
      "Requirement already satisfied: charset-normalizer<4,>=2 in /opt/conda/lib/python3.7/site-packages (from requests->kaggle) (2.1.1)\n",
      "Building wheels for collected packages: kaggle\n",
      "  Building wheel for kaggle (setup.py) ... \u001b[?25ldone\n",
      "\u001b[?25h  Created wheel for kaggle: filename=kaggle-1.5.13-py3-none-any.whl size=77716 sha256=e013cc16fdaf58c41e6779f8206396edf6b1a14c0cadcf6c651ca3533cfeec21\n",
      "  Stored in directory: /home/jupyter/.cache/pip/wheels/5b/e3/7a/f823dfa1eb45f0bc8193c4350b83e118a937d65c70210817ca\n",
      "Successfully built kaggle\n",
      "Installing collected packages: text-unidecode, python-slugify, kaggle\n",
      "Successfully installed kaggle-1.5.13 python-slugify-8.0.1 text-unidecode-1.3\n"
     ]
    }
   ],
   "source": [
    "# !pip install kaggle"
   ]
  },
  {
   "cell_type": "code",
   "execution_count": 6,
   "id": "9e117c46-a95f-459d-9397-fc797e298a70",
   "metadata": {},
   "outputs": [],
   "source": [
    "json_path = 'gs://mpg3-misc/kaggle.json'"
   ]
  },
  {
   "cell_type": "code",
   "execution_count": 2,
   "id": "dc2e99d0-3213-4696-9809-ec3bd8937d51",
   "metadata": {},
   "outputs": [
    {
     "name": "stdout",
     "output_type": "stream",
     "text": [
      "/home/jupyter\n"
     ]
    }
   ],
   "source": [
    "cd"
   ]
  },
  {
   "cell_type": "code",
   "execution_count": 3,
   "id": "69595ef3-9048-4b53-aa4c-47c50b1b5865",
   "metadata": {},
   "outputs": [],
   "source": [
    "mkdir .kaggle"
   ]
  },
  {
   "cell_type": "code",
   "execution_count": 4,
   "id": "a5248eed-aaef-4844-84be-7eb88eb4bb04",
   "metadata": {},
   "outputs": [
    {
     "name": "stdout",
     "output_type": "stream",
     "text": [
      "\u001b[0m\u001b[01;34m.\u001b[0m/   .bash_history  \u001b[01;34m.config\u001b[0m/  .gitconfig  \u001b[01;34m.jupyter\u001b[0m/  \u001b[01;34m.local\u001b[0m/         \u001b[01;34msrc\u001b[0m/\n",
      "\u001b[01;34m..\u001b[0m/  \u001b[01;34m.cache\u001b[0m/        \u001b[01;34m.docker\u001b[0m/  \u001b[01;34m.ipython\u001b[0m/   \u001b[01;34m.kaggle\u001b[0m/   \u001b[01;34mproject_repos\u001b[0m/  \u001b[01;34mtutorials\u001b[0m/\n"
     ]
    }
   ],
   "source": [
    "ls -a"
   ]
  },
  {
   "cell_type": "code",
   "execution_count": 8,
   "id": "14ce3e15-727a-4423-b85a-1a07f82a369e",
   "metadata": {},
   "outputs": [
    {
     "name": "stdout",
     "output_type": "stream",
     "text": [
      "Copying gs://mpg3-misc/kaggle.json to file://.kaggle/kaggle.json\n",
      "  Completed files 1/1 | 63.0B/63.0B                                            \n",
      "\n",
      "\n",
      "To take a quick anonymous survey, run:\n",
      "  $ gcloud survey\n",
      "\n"
     ]
    }
   ],
   "source": [
    "!gcloud storage cp gs://mpg3-misc/kaggle.json .kaggle\n",
    "# will parameterize later"
   ]
  },
  {
   "cell_type": "code",
   "execution_count": 11,
   "id": "8e77a0a2-a4a3-48e8-a1e9-ace33dce675b",
   "metadata": {},
   "outputs": [],
   "source": [
    "mkdir projects_data"
   ]
  },
  {
   "cell_type": "code",
   "execution_count": 12,
   "id": "00e72754-d57a-4e45-9462-94214ab8db01",
   "metadata": {},
   "outputs": [
    {
     "name": "stdout",
     "output_type": "stream",
     "text": [
      "/home/jupyter/projects_data\n"
     ]
    }
   ],
   "source": [
    "cd projects_data"
   ]
  },
  {
   "cell_type": "code",
   "execution_count": 13,
   "id": "2f92abb0-5b69-457d-b473-f354eca4969f",
   "metadata": {},
   "outputs": [],
   "source": [
    "mkdir titanic"
   ]
  },
  {
   "cell_type": "code",
   "execution_count": 14,
   "id": "6e8c441e-e33a-419c-9be6-6537d1ded1a7",
   "metadata": {},
   "outputs": [
    {
     "name": "stdout",
     "output_type": "stream",
     "text": [
      "Warning: Your Kaggle API key is readable by other users on this system! To fix this, you can run 'chmod 600 /home/jupyter/.kaggle/kaggle.json'\n",
      "Downloading titanic.zip to /home/jupyter/projects_data\n",
      "  0%|                                               | 0.00/34.1k [00:00<?, ?B/s]\n",
      "100%|██████████████████████████████████████| 34.1k/34.1k [00:00<00:00, 23.9MB/s]\n"
     ]
    }
   ],
   "source": [
    "!kaggle competitions download -c titanic"
   ]
  },
  {
   "cell_type": "code",
   "execution_count": 21,
   "id": "5d1c28bf-b4be-404b-b6c5-9050b7de905f",
   "metadata": {},
   "outputs": [
    {
     "name": "stdout",
     "output_type": "stream",
     "text": [
      "Archive:  titanic.zip\n",
      "  inflating: titanic/gender_submission.csv  \n",
      "  inflating: titanic/test.csv        \n",
      "  inflating: titanic/train.csv       \n"
     ]
    }
   ],
   "source": [
    "!unzip titanic.zip -d titanic"
   ]
  },
  {
   "cell_type": "code",
   "execution_count": 23,
   "id": "f182d3b7-ee77-49f7-9832-88332552271f",
   "metadata": {},
   "outputs": [
    {
     "name": "stdout",
     "output_type": "stream",
     "text": [
      "/home/jupyter/projects_data/titanic\n"
     ]
    }
   ],
   "source": [
    "cd titanic"
   ]
  },
  {
   "cell_type": "code",
   "execution_count": 24,
   "id": "0f84d8a4-874c-4ee0-a7dd-0b5aea1f232f",
   "metadata": {},
   "outputs": [
    {
     "name": "stdout",
     "output_type": "stream",
     "text": [
      "\u001b[0m\u001b[01;34m.\u001b[0m/  \u001b[01;34m..\u001b[0m/  gender_submission.csv  test.csv  train.csv\n"
     ]
    }
   ],
   "source": [
    "ls -a"
   ]
  },
  {
   "cell_type": "code",
   "execution_count": 26,
   "id": "a51b5894-d79e-4702-b1be-168fc2822367",
   "metadata": {},
   "outputs": [
    {
     "name": "stdout",
     "output_type": "stream",
     "text": [
      "Copying file://gender_submission.csv [Content-Type=text/csv]...\n",
      "Copying file://test.csv [Content-Type=text/csv]...                              \n",
      "Copying file://train.csv [Content-Type=text/csv]...                             \n",
      "/ [3 files][ 90.9 KiB/ 90.9 KiB]                                                \n",
      "Operation completed over 3 objects/90.9 KiB.                                     \n"
     ]
    }
   ],
   "source": [
    "!gsutil cp *.csv gs://mpg3-model-data/titanic"
   ]
  },
  {
   "cell_type": "code",
   "execution_count": null,
   "id": "5337a9de-1a5d-410d-9ccf-ce8ac303e55e",
   "metadata": {},
   "outputs": [],
   "source": []
  }
 ],
 "metadata": {
  "environment": {
   "kernel": "python3",
   "name": "common-cpu.m103",
   "type": "gcloud",
   "uri": "gcr.io/deeplearning-platform-release/base-cpu:m103"
  },
  "kernelspec": {
   "display_name": "Python 3",
   "language": "python",
   "name": "python3"
  },
  "language_info": {
   "codemirror_mode": {
    "name": "ipython",
    "version": 3
   },
   "file_extension": ".py",
   "mimetype": "text/x-python",
   "name": "python",
   "nbconvert_exporter": "python",
   "pygments_lexer": "ipython3",
   "version": "3.7.12"
  }
 },
 "nbformat": 4,
 "nbformat_minor": 5
}
